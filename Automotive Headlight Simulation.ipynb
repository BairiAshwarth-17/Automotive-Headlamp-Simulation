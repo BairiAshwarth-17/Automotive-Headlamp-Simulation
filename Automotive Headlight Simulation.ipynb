{
 "cells": [
  {
   "cell_type": "code",
   "execution_count": null,
   "id": "fd475c4e-83b9-4ee5-bd2b-c382c7206a1a",
   "metadata": {},
   "outputs": [
    {
     "name": "stdout",
     "output_type": "stream",
     "text": [
      "🚗 Headlamp Auto ON System Simulation\n",
      "\n",
      "[Sensor] Sending Ambient Light (ID=0x101) → Value: 100 Lux\n",
      "[BCM ECU] Sending Headlamp Status (ID=0x201) → Value: 1 (ON)\n",
      "✅ Test Passed\n",
      "\n",
      "[Sensor] Sending Ambient Light (ID=0x101) → Value: 250 Lux\n",
      "[BCM ECU] Sending Headlamp Status (ID=0x201) → Value: 1 (ON)\n",
      "✅ Test Passed\n",
      "\n",
      "[Sensor] Sending Ambient Light (ID=0x101) → Value: 350 Lux\n",
      "[BCM ECU] Sending Headlamp Status (ID=0x201) → Value: 0 (OFF)\n",
      "✅ Test Passed\n",
      "\n",
      "[Sensor] Sending Ambient Light (ID=0x101) → Value: 600 Lux\n",
      "[BCM ECU] Sending Headlamp Status (ID=0x201) → Value: 0 (OFF)\n",
      "✅ Test Passed\n"
     ]
    }
   ],
   "source": [
    "\n",
    "\n",
    "# Define CAN Messages (dictionary for simulation)\n",
    "CAN_MESSAGES = {\n",
    "    \"AmbientSensor\": {\"ID\": 0x101, \"Data\": 0},   # Sensor sends ambient light value (lux)\n",
    "    \"HeadlampStatus\": {\"ID\": 0x201, \"Data\": 0}   \n",
    "}\n",
    "\n",
    "# BCM ECU Logic\n",
    "def bcm_ecu_process(ambient_value):\n",
    "    \"\"\"\n",
    "    BCM ECU processes ambient light sensor value.\n",
    "    If <300 lux → Turn ON headlamp.\n",
    "    If >=300 lux → Keep OFF.\n",
    "    \"\"\"\n",
    "    if ambient_value < 300:\n",
    "        CAN_MESSAGES[\"HeadlampStatus\"][\"Data\"] = 1  # Headlamp ON\n",
    "    else:\n",
    "        CAN_MESSAGES[\"HeadlampStatus\"][\"Data\"] = 0  # Headlamp OFF\n",
    "\n",
    "\n",
    "# Tester Simulation\n",
    "def tester_simulation(test_values):\n",
    "    \"\"\"\n",
    "    Simulates a tester injecting sensor values and checking ECU response.\n",
    "    \"\"\"\n",
    "    for lux in test_values:\n",
    "        # Sensor sends value\n",
    "        CAN_MESSAGES[\"AmbientSensor\"][\"Data\"] = lux\n",
    "        print(f\"\\n[Sensor] Sending Ambient Light (ID={hex(CAN_MESSAGES['AmbientSensor']['ID'])}) → Value: {lux} Lux\")\n",
    "\n",
    "        # BCM ECU processes sensor input\n",
    "        bcm_ecu_process(lux)\n",
    "\n",
    "        # Actuator receives status\n",
    "        headlamp_status = CAN_MESSAGES[\"HeadlampStatus\"][\"Data\"]\n",
    "        print(f\"[BCM ECU] Sending Headlamp Status (ID={hex(CAN_MESSAGES['HeadlampStatus']['ID'])}) → Value: {headlamp_status} ({'ON' if headlamp_status else 'OFF'})\")\n",
    "\n",
    "        # Tester validates output\n",
    "        expected = 1 if lux < 300 else 0\n",
    "        if headlamp_status == expected:\n",
    "            print(\"✅ Test Passed\")\n",
    "        else:\n",
    "            print(\"❌ Test Failed\")\n",
    "\n",
    "\n",
    "# Run tester with different scenarios\n",
    "if __name__ == \"__main__\":\n",
    "    print(\"🚗 Headlamp Auto ON System Simulation\")\n",
    "    test_values = [100, 250, 350, 600]  # Dark, Dim, Bright\n",
    "    tester_simulation(test_values)\n"
   ]
  },
  {
   "cell_type": "code",
   "execution_count": null,
   "id": "09e03452-2413-4705-a1e4-b70679e7fe0a",
   "metadata": {},
   "outputs": [],
   "source": []
  }
 ],
 "metadata": {
  "kernelspec": {
   "display_name": "Python 3 (ipykernel)",
   "language": "python",
   "name": "python3"
  },
  "language_info": {
   "codemirror_mode": {
    "name": "ipython",
    "version": 3
   },
   "file_extension": ".py",
   "mimetype": "text/x-python",
   "name": "python",
   "nbconvert_exporter": "python",
   "pygments_lexer": "ipython3",
   "version": "3.13.2"
  }
 },
 "nbformat": 4,
 "nbformat_minor": 5
}
